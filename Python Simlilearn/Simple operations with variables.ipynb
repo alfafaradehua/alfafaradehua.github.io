{
 "cells": [
  {
   "cell_type": "code",
   "execution_count": 8,
   "id": "be4af607",
   "metadata": {},
   "outputs": [
    {
     "name": "stdout",
     "output_type": "stream",
     "text": [
      " variable a has value 1 , has type <class 'int'> , and has id 2309081557296 .\n",
      " variable b has value 2 , has type <class 'int'> , and has id 2309081557328 .\n",
      " variable c has value 3 , has type <class 'int'> , and has id 2309081557360 .\n"
     ]
    }
   ],
   "source": [
    "#Simple operations\n",
    "a = 1\n",
    "b = 2\n",
    "c = a + b\n",
    "print(\" variable a has value\",a,\", has type\",type(a),\", and has id\",id(a),\".\\n\",\n",
    "      \"variable b has value\",b,\", has type\",type(b),\", and has id\",id(b),\".\\n\",\n",
    "      \"variable c has value\",c,\", has type\",type(c),\", and has id\",id(c),\".\")"
   ]
  },
  {
   "cell_type": "code",
   "execution_count": 10,
   "id": "14cab809",
   "metadata": {},
   "outputs": [
    {
     "name": "stdout",
     "output_type": "stream",
     "text": [
      " variable a has value 1 , has type <class 'int'> , and has id 2309081557296 .\n",
      " variable b has value 2 , has type <class 'int'> , and has id 2309081557328 .\n",
      " variable c has value -1 , has type <class 'int'> , and has id 2309081557232 .\n"
     ]
    }
   ],
   "source": [
    "a = 1\n",
    "b = 2\n",
    "c = a - b\n",
    "print(\" variable a has value\",a,\", has type\",type(a),\", and has id\",id(a),\".\\n\",\n",
    "      \"variable b has value\",b,\", has type\",type(b),\", and has id\",id(b),\".\\n\",\n",
    "      \"variable c has value\",c,\", has type\",type(c),\", and has id\",id(c),\".\")"
   ]
  },
  {
   "cell_type": "code",
   "execution_count": 11,
   "id": "202c21fa",
   "metadata": {},
   "outputs": [
    {
     "name": "stdout",
     "output_type": "stream",
     "text": [
      " variable a has value 1 , has type <class 'int'> , and has id 2309081557296 .\n",
      " variable b has value 2 , has type <class 'int'> , and has id 2309081557328 .\n",
      " variable c has value 0.5 , has type <class 'float'> , and has id 2309164856912 .\n"
     ]
    }
   ],
   "source": [
    "a = 1\n",
    "b = 2\n",
    "c = a / b\n",
    "print(\" variable a has value\",a,\", has type\",type(a),\", and has id\",id(a),\".\\n\",\n",
    "      \"variable b has value\",b,\", has type\",type(b),\", and has id\",id(b),\".\\n\",\n",
    "      \"variable c has value\",c,\", has type\",type(c),\", and has id\",id(c),\".\")"
   ]
  },
  {
   "cell_type": "code",
   "execution_count": 12,
   "id": "81437916",
   "metadata": {},
   "outputs": [
    {
     "name": "stdout",
     "output_type": "stream",
     "text": [
      " variable a has value 1 , has type <class 'int'> , and has id 2309081557296 .\n",
      " variable b has value 2 , has type <class 'int'> , and has id 2309081557328 .\n",
      " variable c has value 0 , has type <class 'int'> , and has id 2309081557264 .\n"
     ]
    }
   ],
   "source": [
    "# using \"//\" instead of / forces a integer division or quotient operation\n",
    "a = 1\n",
    "b = 2\n",
    "c = a // b\n",
    "print(\" variable a has value\",a,\", has type\",type(a),\", and has id\",id(a),\".\\n\",\n",
    "      \"variable b has value\",b,\", has type\",type(b),\", and has id\",id(b),\".\\n\",\n",
    "      \"variable c has value\",c,\", has type\",type(c),\", and has id\",id(c),\".\")"
   ]
  },
  {
   "cell_type": "code",
   "execution_count": 32,
   "id": "5138650b",
   "metadata": {},
   "outputs": [
    {
     "name": "stdout",
     "output_type": "stream",
     "text": [
      " variable a has value Ford , has type <class 'str'> , and has id 2309164406000 .\n",
      " variable b has value Maverick , has type <class 'str'> , and has id 2309164407920 .\n",
      " variable c has value Fo rd M a v erick , has type <class 'str'> , and has id 2309165124304 .\n"
     ]
    }
   ],
   "source": [
    "#Some string manipulation \n",
    "a = \"Ford\"\n",
    "b = \"Maverick\"\n",
    "c = a[:2]+\" \"+a[2:]+\" \"+b[0]+\" \"+b[1]+\" \"+b[2]+\" \"+b[3:]\n",
    "print(\" variable a has value\",a,\", has type\",type(a),\", and has id\",id(a),\".\\n\",\n",
    "      \"variable b has value\",b,\", has type\",type(b),\", and has id\",id(b),\".\\n\",\n",
    "      \"variable c has value\",c,\", has type\",type(c),\", and has id\",id(c),\".\")"
   ]
  },
  {
   "cell_type": "code",
   "execution_count": 33,
   "id": "5f65ec80",
   "metadata": {},
   "outputs": [
    {
     "name": "stdout",
     "output_type": "stream",
     "text": [
      " variable carone has value Ford , has type <class 'str'> , and has id 2309164406000 .\n",
      " variable cartwo has value Hyundai , has type <class 'str'> , and has id 2309164904496 .\n",
      " variable car3 has value Tesla , has type <class 'str'> , and has id 2309164907312 .\n"
     ]
    }
   ],
   "source": [
    "#More string manipulation \n",
    "cars = [\"Ford\",\"Hyundai\",\"Tesla\"]\n",
    "carone, cartwo,car3 = cars\n",
    "print(\" variable carone has value\",carone,\", has type\",type(carone),\", and has id\",id(carone),\".\\n\",\n",
    "      \"variable cartwo has value\",cartwo,\", has type\",type(cartwo),\", and has id\",id(cartwo),\".\\n\",\n",
    "      \"variable car3 has value\",car3,\", has type\",type(car3),\", and has id\",id(car3),\".\")"
   ]
  },
  {
   "cell_type": "code",
   "execution_count": 34,
   "id": "399416dd",
   "metadata": {},
   "outputs": [
    {
     "name": "stdout",
     "output_type": "stream",
     "text": [
      "1st car brand is Ford. \n"
     ]
    }
   ],
   "source": [
    "randomnumber = 1234\n",
    "print(\"1st car brand is \" + carone +\". \")"
   ]
  },
  {
   "cell_type": "code",
   "execution_count": 35,
   "id": "61dbc7d6",
   "metadata": {},
   "outputs": [
    {
     "ename": "TypeError",
     "evalue": "can only concatenate str (not \"int\") to str",
     "output_type": "error",
     "traceback": [
      "\u001b[1;31m---------------------------------------------------------------------------\u001b[0m",
      "\u001b[1;31mTypeError\u001b[0m                                 Traceback (most recent call last)",
      "\u001b[1;32m~\\AppData\\Local\\Temp\\ipykernel_3012\\4004941522.py\u001b[0m in \u001b[0;36m<module>\u001b[1;34m\u001b[0m\n\u001b[1;32m----> 1\u001b[1;33m \u001b[0mprint\u001b[0m\u001b[1;33m(\u001b[0m\u001b[1;34m\"1st car brand is \"\u001b[0m \u001b[1;33m+\u001b[0m \u001b[0mcarone\u001b[0m \u001b[1;33m+\u001b[0m\u001b[1;34m\". \"\u001b[0m\u001b[1;33m+\u001b[0m\u001b[0mrandomnumber\u001b[0m\u001b[1;33m)\u001b[0m\u001b[1;33m\u001b[0m\u001b[1;33m\u001b[0m\u001b[0m\n\u001b[0m",
      "\u001b[1;31mTypeError\u001b[0m: can only concatenate str (not \"int\") to str"
     ]
    }
   ],
   "source": [
    "#simple reminder that you can't concatenate a string and int without doing some typecasting i guess\n",
    "print(\"1st car brand is \" + carone +\". \"+randomnumber)"
   ]
  },
  {
   "cell_type": "code",
   "execution_count": 40,
   "id": "510b4a8c",
   "metadata": {},
   "outputs": [
    {
     "name": "stdout",
     "output_type": "stream",
     "text": [
      " variable myFirstCarBrand has value GM Camel case , has type <class 'str'> , and has id 2309165133040 .\n",
      " variable mySecondCarBrand has value Hyundai Camel case , has type <class 'str'> , and has id 2309165223808 .\n",
      " \n",
      " variable mySecondCarBrand has value GM Pascal case , has type <class 'str'> , and has id 2309165131696 .\n",
      " variable MyFirstCarBrand has value Hyundai Pascal case , has type <class 'str'> , and has id 2309165700880 .\n",
      " \n",
      " variable my_first_car_brand has value GM Snake case , has type <class 'str'> , and has id 2309165133104 .\n",
      " variable my_second_car_brand has value Hyundai Snake case , has type <class 'str'> , and has id 2309165702160 .\n"
     ]
    }
   ],
   "source": [
    "# Camel case variable naming convention haiya...\n",
    "myFirstCarBrand = \"GM Camel case\"\n",
    "mySecondCarBrand = \"Hyundai Camel case\"\n",
    "\n",
    "# Pascal case system\n",
    "MyFirstCarBrand = \"GM Pascal case\"\n",
    "MySecondCarBrand = \"Hyundai Pascal case\"\n",
    "\n",
    "# Snake case system\n",
    "my_first_car_brand = \"GM Snake case\"\n",
    "my_second_car_brand = \"Hyundai Snake case\"\n",
    "\n",
    "print(\" variable myFirstCarBrand has value\",myFirstCarBrand,\", has type\",type(myFirstCarBrand),\", and has id\",id(myFirstCarBrand),\".\\n\",\n",
    "      \"variable mySecondCarBrand has value\",mySecondCarBrand,\", has type\",type(mySecondCarBrand),\", and has id\",id(mySecondCarBrand),\".\\n\",\"\\n\",\n",
    "      \"variable mySecondCarBrand has value\",MyFirstCarBrand,\", has type\",type(MyFirstCarBrand),\", and has id\",id(MyFirstCarBrand),\".\\n\",\n",
    "      \"variable MyFirstCarBrand has value\",MySecondCarBrand,\", has type\",type(MySecondCarBrand),\", and has id\",id(MySecondCarBrand),\".\\n\",\"\\n\",\n",
    "      \"variable my_first_car_brand has value\",my_first_car_brand,\", has type\",type(my_first_car_brand),\", and has id\",id(my_first_car_brand),\".\\n\",\n",
    "      \"variable my_second_car_brand has value\",my_second_car_brand,\", has type\",type(my_second_car_brand),\", and has id\",id(my_second_car_brand),\".\")\n"
   ]
  },
  {
   "cell_type": "code",
   "execution_count": 37,
   "id": "30fadd3e",
   "metadata": {},
   "outputs": [
    {
     "ename": "NameError",
     "evalue": "name 'myfirstcarbrand' is not defined",
     "output_type": "error",
     "traceback": [
      "\u001b[1;31m---------------------------------------------------------------------------\u001b[0m",
      "\u001b[1;31mNameError\u001b[0m                                 Traceback (most recent call last)",
      "\u001b[1;32m~\\AppData\\Local\\Temp\\ipykernel_3012\\1110923257.py\u001b[0m in \u001b[0;36m<module>\u001b[1;34m\u001b[0m\n\u001b[0;32m      1\u001b[0m \u001b[1;31m#just to prove case matters\u001b[0m\u001b[1;33m\u001b[0m\u001b[1;33m\u001b[0m\u001b[0m\n\u001b[1;32m----> 2\u001b[1;33m \u001b[0mprint\u001b[0m \u001b[1;33m(\u001b[0m\u001b[0mmyfirstcarbrand\u001b[0m\u001b[1;33m)\u001b[0m\u001b[1;33m\u001b[0m\u001b[1;33m\u001b[0m\u001b[0m\n\u001b[0m",
      "\u001b[1;31mNameError\u001b[0m: name 'myfirstcarbrand' is not defined"
     ]
    }
   ],
   "source": [
    "#just to prove case matters\n",
    "print (myfirstcarbrand)"
   ]
  },
  {
   "cell_type": "code",
   "execution_count": null,
   "id": "fa46187b",
   "metadata": {},
   "outputs": [],
   "source": []
  }
 ],
 "metadata": {
  "kernelspec": {
   "display_name": "Python 3 (ipykernel)",
   "language": "python",
   "name": "python3"
  },
  "language_info": {
   "codemirror_mode": {
    "name": "ipython",
    "version": 3
   },
   "file_extension": ".py",
   "mimetype": "text/x-python",
   "name": "python",
   "nbconvert_exporter": "python",
   "pygments_lexer": "ipython3",
   "version": "3.9.13"
  }
 },
 "nbformat": 4,
 "nbformat_minor": 5
}
