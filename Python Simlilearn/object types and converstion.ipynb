{
 "cells": [
  {
   "cell_type": "code",
   "execution_count": null,
   "id": "4ba08b06-4f82-4ddb-a32b-0b6fcfcb3095",
   "metadata": {},
   "outputs": [],
   "source": [
    "\"\"\"\n",
    "two type conversions in python\n",
    "\n",
    "implicit, doesnt need user info\n",
    "\n",
    "\n",
    "explicit, needs extra info i guess\n",
    "\n",
    "\"\"\"\n"
   ]
  }
 ],
 "metadata": {
  "kernelspec": {
   "display_name": "Python 3 (ipykernel)",
   "language": "python",
   "name": "python3"
  },
  "language_info": {
   "codemirror_mode": {
    "name": "ipython",
    "version": 3
   },
   "file_extension": ".py",
   "mimetype": "text/x-python",
   "name": "python",
   "nbconvert_exporter": "python",
   "pygments_lexer": "ipython3",
   "version": "3.9.13"
  }
 },
 "nbformat": 4,
 "nbformat_minor": 5
}
