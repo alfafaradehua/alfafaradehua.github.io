{
 "cells": [
  {
   "cell_type": "code",
   "execution_count": 3,
   "id": "b6eddd05",
   "metadata": {},
   "outputs": [
    {
     "ename": "SyntaxError",
     "evalue": "EOL while scanning string literal (2346517299.py, line 29)",
     "output_type": "error",
     "traceback": [
      "\u001b[1;36m  File \u001b[1;32m\"C:\\Users\\alfaf\\AppData\\Local\\Temp\\ipykernel_4852\\2346517299.py\"\u001b[1;36m, line \u001b[1;32m29\u001b[0m\n\u001b[1;33m    \"\"\"\"\u001b[0m\n\u001b[1;37m        \n^\u001b[0m\n\u001b[1;31mSyntaxError\u001b[0m\u001b[1;31m:\u001b[0m EOL while scanning string literal\n"
     ]
    }
   ],
   "source": [
    "\"\"\"\n",
    "data types are:\n",
    "numeric are int, float, and complex\n",
    "int - Integer numeric type\n",
    "float - Floating-point numeric type\n",
    "complex - Complex numeric type\n",
    "\n",
    "boolean type is bool\n",
    "bool - Boolean type representing True or False\n",
    "\n",
    "text type is str\n",
    "str - String type representing a sequence of characters\n",
    "\n",
    "set type is set\n",
    "sequence types are list, tuple\n",
    "list - Mutable sequence of elements\n",
    "tuple - Immutable sequence of elements\n",
    "\n",
    "set - Mutable unordered collection of unique elements\n",
    "frozenset - Immutable unordered collection of unique elements\n",
    "\n",
    "mapping types is dict\n",
    "dict - Mutable mapping of key-value pairs\n",
    "\n",
    "binary types are bytes, bytearray, and memoryview\n",
    "bytes - Immutable sequence of bytes\n",
    "bytearray - Mutable sequence of bytes\n",
    "memoryview - Memory view of an object's internal data buffer\n",
    "\"\"\"\"\n",
    "\n",
    "#wtf is memoryview... chatgpt to the rescue\n",
    "# Create a byte array\n",
    "my_bytes = bytearray(b\"Hello, world!\")\n",
    "\n",
    "# Create a memoryview object of the byte array\n",
    "mv = memoryview(my_bytes)\n",
    "\n",
    "# Print the first byte of the byte array using the memoryview object\n",
    "print(mv[0])\n",
    "\n",
    "# Modify the second byte of the byte array using the memoryview object\n",
    "mv[1] = 101  # ASCII code for 'e'\n",
    "\n",
    "# Print the modified byte array\n",
    "print(my_bytes)"
   ]
  },
  {
   "cell_type": "code",
   "execution_count": 4,
   "id": "2d561282",
   "metadata": {},
   "outputs": [
    {
     "name": "stdout",
     "output_type": "stream",
     "text": [
      " variable x has value 50.1 , has type <class 'float'> , and has id 1630462178928 .\n",
      " variable y has value 1686 , has type <class 'int'> , and has id 1630462181168 .\n",
      " variable z has value (1+2j) , has type <class 'complex'> , and has id 1630462180976 .\n",
      " variable z real component has value 1.0 , has type <class 'float'> , and has id 1630462178704 .\n",
      " variable z imaginary componenthas value 2.0 , has type <class 'float'> , and has id 1630462179440 .\n",
      "\n",
      "after some typecasts we now have...\n",
      " variable x has value 50 , has type <class 'int'> , and has id 1630379077456 .\n",
      " variable y has value 1686.0 , has type <class 'float'> , and has id 1630462181264 .\n",
      "\n"
     ]
    }
   ],
   "source": [
    "#numeric data type. USE 1j instead of j!\n",
    "(x,y,z) = 50.1,1686,1+2j\n",
    "print(\" variable x has value\",x,\", has type\",type(x),\", and has id\",id(x),\".\\n\",\n",
    "      \"variable y has value\",y,\", has type\",type(y),\", and has id\",id(y),\".\\n\",\n",
    "     \"variable z has value\",z,\", has type\",type(z),\", and has id\",id(z),\".\\n\",\n",
    "      \"variable z real component has value\",z.real,\", has type\",type(z.real),\", and has id\",id(z.real),\".\\n\",\n",
    "      \"variable z imaginary componenthas value\",z.imag,\", has type\",type(z.imag),\", and has id\",id(z.imag),\".\\n\")\n",
    "\n",
    "#lets try typecasting woohooo\n",
    "x = int(x)\n",
    "y = float(y)\n",
    "print(\"after some typecasts we now have...\")\n",
    "print(\" variable x has value\",x,\", has type\",type(x),\", and has id\",id(x),\".\\n\"\n",
    "     \" variable y has value\",y,\", has type\",type(y),\", and has id\",id(y),\".\\n\")"
   ]
  },
  {
   "cell_type": "code",
   "execution_count": 5,
   "id": "3f3c14e2",
   "metadata": {},
   "outputs": [
    {
     "name": "stdout",
     "output_type": "stream",
     "text": [
      "False\n",
      "True\n",
      "<class 'bool'>\n"
     ]
    }
   ],
   "source": [
    "#booooleannn baby!\n",
    "testPassResult= True\n",
    "print(testPassResult < 1)\n",
    "print(testPassResult > 0)\n",
    "print(type(testPassResult))"
   ]
  },
  {
   "cell_type": "code",
   "execution_count": 6,
   "id": "2924aaeb",
   "metadata": {},
   "outputs": [
    {
     "name": "stdout",
     "output_type": "stream",
     "text": [
      " variable a has value Ford , has type <class 'str'> , and has id 1630462239920 .\n",
      " variable b has value Maverick , has type <class 'str'> , and has id 1630462290800 .\n",
      " variable c has value Fo rd M a v erick , has type <class 'str'> , and has id 1630462897808 .\n",
      "\n",
      "F\n",
      "o\n",
      "r\n",
      "d\n",
      "\n",
      "\n",
      "M\n",
      "a\n",
      "v\n",
      "e\n",
      "\n",
      "\n",
      "i\n",
      "c\n",
      "k\n",
      "\n",
      "\n",
      "Mav\n",
      "ver\n"
     ]
    }
   ],
   "source": [
    "#Strrriiiiiings and some review i guess\n",
    "#copied tutorial from last video because it is alot better lol\n",
    "a = \"Ford\"\n",
    "b = \"Maverick\"\n",
    "c = a[:2]+\" \"+a[2:]+\" \"+b[0]+\" \"+b[1]+\" \"+b[2]+\" \"+b[3:]\n",
    "print(\" variable a has value\",a,\", has type\",type(a),\", and has id\",id(a),\".\\n\",\n",
    "      \"variable b has value\",b,\", has type\",type(b),\", and has id\",id(b),\".\\n\",\n",
    "      \"variable c has value\",c,\", has type\",type(c),\", and has id\",id(c),\".\\n\")\n",
    "print(a[0])\n",
    "print(a[1])\n",
    "print(a[2])\n",
    "print(a[3])\n",
    "print(\"\\n\")\n",
    "print(b[0])\n",
    "print(b[1])\n",
    "print(b[2])\n",
    "print(b[3])\n",
    "#you can also reference from the end\n",
    "print(\"\\n\")\n",
    "print(b[-3])\n",
    "print(b[-2])\n",
    "print(b[-1])\n",
    "print(\"\\n\")\n",
    "\"\"\"\n",
    "how about some slicing \n",
    "take for example b[0:3]\n",
    "first digit is starting index which is base zero \n",
    "second digit after colon is end index (base zero +1 for some crazy reason)\n",
    "\"\"\"\n",
    "print(b[0:3])\n",
    "print(b[2:5])"
   ]
  },
  {
   "cell_type": "code",
   "execution_count": 7,
   "id": "5d385313",
   "metadata": {},
   "outputs": [
    {
     "name": "stdout",
     "output_type": "stream",
     "text": [
      "0\n",
      "-1\n",
      "1\n",
      "2\n",
      "3\n"
     ]
    }
   ],
   "source": [
    "#how about some basic string functions\n",
    "print(a.find(\"F\"))\n",
    "#note lower case f doesnt exist in var a\n",
    "print(a.find(\"f\"))\n",
    "print(a.find(\"o\"))\n",
    "print(a.find(\"r\"))\n",
    "print(a.find(\"d\"))"
   ]
  },
  {
   "cell_type": "code",
   "execution_count": 8,
   "id": "5e83848f",
   "metadata": {},
   "outputs": [
    {
     "name": "stdout",
     "output_type": "stream",
     "text": [
      "I,am,a,human\n",
      "['I', 'am', 'a', 'human']\n"
     ]
    }
   ],
   "source": [
    "#List datatypes\n",
    "\n",
    "myFirstList = \"I,am,a,human\"\n",
    "\n",
    "#This is very useful for parsing csv files my dude\n",
    "elementOne = myFirstList.split(\",\")\n",
    "print(myFirstList)\n",
    "print(elementOne)"
   ]
  },
  {
   "cell_type": "code",
   "execution_count": 9,
   "id": "8657dad7",
   "metadata": {},
   "outputs": [
    {
     "name": "stdout",
     "output_type": "stream",
     "text": [
      "['Is gravity measurable in m/s^2?', True, 9.80665]\n",
      "<class 'list'>\n"
     ]
    }
   ],
   "source": [
    "#just to show list can have multiple data types\n",
    "myFirstListVerTwo = [\"Is gravity measurable in m/s^2?\",True, 9.80665]\n",
    "print(myFirstListVerTwo)\n",
    "print(type(myFirstListVerTwo))"
   ]
  },
  {
   "cell_type": "code",
   "execution_count": 10,
   "id": "f928dcd9",
   "metadata": {},
   "outputs": [
    {
     "name": "stdout",
     "output_type": "stream",
     "text": [
      "['Is gravity measurable in m/s^2?', True, 9.80665, 'I', 'am', 'a', 'human']\n"
     ]
    }
   ],
   "source": [
    "#how to add to end of lists using \"+=\"\n",
    "myFirstListVerTwo += elementOne\n",
    "print(myFirstListVerTwo)\n"
   ]
  },
  {
   "cell_type": "code",
   "execution_count": 11,
   "id": "8f2632a2",
   "metadata": {},
   "outputs": [
    {
     "name": "stdout",
     "output_type": "stream",
     "text": [
      "('ford', 'hyundai', 'tesla')\n"
     ]
    },
    {
     "data": {
      "text/plain": [
       "tuple"
      ]
     },
     "execution_count": 11,
     "metadata": {},
     "output_type": "execute_result"
    }
   ],
   "source": [
    "#how about the hard to use tuple\n",
    "tup1 = (\"ford\",\"hyundai\",\"tesla\")\n",
    "print(tup1)\n",
    "type(tup1)\n"
   ]
  },
  {
   "cell_type": "code",
   "execution_count": 12,
   "id": "80e6f342",
   "metadata": {},
   "outputs": [
    {
     "name": "stdout",
     "output_type": "stream",
     "text": [
      "('1', '2', '3')\n"
     ]
    },
    {
     "data": {
      "text/plain": [
       "tuple"
      ]
     },
     "execution_count": 12,
     "metadata": {},
     "output_type": "execute_result"
    }
   ],
   "source": [
    "tup2 = (\"1\",\"2\",\"3\")\n",
    "print(tup2)\n",
    "type(tup2)"
   ]
  },
  {
   "cell_type": "code",
   "execution_count": 13,
   "id": "d29db97c",
   "metadata": {},
   "outputs": [
    {
     "name": "stdout",
     "output_type": "stream",
     "text": [
      "('ford', 'hyundai', 'tesla', '1', '2', '3')\n"
     ]
    },
    {
     "data": {
      "text/plain": [
       "tuple"
      ]
     },
     "execution_count": 13,
     "metadata": {},
     "output_type": "execute_result"
    }
   ],
   "source": [
    "tup1+=tup2\n",
    "print(tup1)\n",
    "type(tup1)"
   ]
  },
  {
   "cell_type": "code",
   "execution_count": 14,
   "id": "a267de68",
   "metadata": {},
   "outputs": [
    {
     "data": {
      "text/plain": [
       "'1'"
      ]
     },
     "execution_count": 14,
     "metadata": {},
     "output_type": "execute_result"
    }
   ],
   "source": [
    "#Calling a tuple\n",
    "tup2[0]"
   ]
  },
  {
   "cell_type": "code",
   "execution_count": 15,
   "id": "71422f29",
   "metadata": {},
   "outputs": [
    {
     "data": {
      "text/plain": [
       "('1', '2', '3', '1', '2', '3')"
      ]
     },
     "execution_count": 15,
     "metadata": {},
     "output_type": "execute_result"
    }
   ],
   "source": [
    "#Not sure why this is useful\n",
    "tup2 * 2"
   ]
  },
  {
   "cell_type": "code",
   "execution_count": 16,
   "id": "25a3da5b",
   "metadata": {},
   "outputs": [
    {
     "data": {
      "text/plain": [
       "'2'"
      ]
     },
     "execution_count": 16,
     "metadata": {},
     "output_type": "execute_result"
    }
   ],
   "source": [
    "tup2=tup2 * 2\n",
    "tup2[4]"
   ]
  },
  {
   "cell_type": "code",
   "execution_count": 1,
   "id": "62d6cc14",
   "metadata": {},
   "outputs": [],
   "source": [
    "#Mapping \n",
    "myFirstDictionary = {1: \"Spear\",2: \"Saber\",3:\"Straightsword\"}"
   ]
  },
  {
   "cell_type": "code",
   "execution_count": 7,
   "id": "f24c22aa-58ba-435e-8f27-0920b7454aaa",
   "metadata": {},
   "outputs": [
    {
     "data": {
      "text/plain": [
       "dict"
      ]
     },
     "execution_count": 7,
     "metadata": {},
     "output_type": "execute_result"
    }
   ],
   "source": [
    "type(myFirstDictionary)"
   ]
  },
  {
   "cell_type": "code",
   "execution_count": 8,
   "id": "ea6d2b80-5ff4-4ec3-9cf5-c5308eb7b596",
   "metadata": {},
   "outputs": [
    {
     "data": {
      "text/plain": [
       "'Spear'"
      ]
     },
     "execution_count": 8,
     "metadata": {},
     "output_type": "execute_result"
    }
   ],
   "source": [
    "myFirstDictionary[1]"
   ]
  },
  {
   "cell_type": "code",
   "execution_count": 6,
   "id": "dd68d619-72c9-4981-b40a-e8982b12463a",
   "metadata": {},
   "outputs": [
    {
     "data": {
      "text/plain": [
       "3"
      ]
     },
     "execution_count": 6,
     "metadata": {},
     "output_type": "execute_result"
    }
   ],
   "source": [
    "len(myFirstDictionary)"
   ]
  },
  {
   "cell_type": "code",
   "execution_count": 13,
   "id": "118d4c99-c993-4a6c-91ee-2f886c86e6e6",
   "metadata": {},
   "outputs": [],
   "source": [
    "#Set data type. unorderd unique elements\n",
    "set1 = {1,2,3,4}"
   ]
  },
  {
   "cell_type": "code",
   "execution_count": 14,
   "id": "afbdcc48-423f-4c3d-b8d9-21a7ddca7d8c",
   "metadata": {},
   "outputs": [
    {
     "data": {
      "text/plain": [
       "set"
      ]
     },
     "execution_count": 14,
     "metadata": {},
     "output_type": "execute_result"
    }
   ],
   "source": [
    "type(set1)"
   ]
  },
  {
   "cell_type": "code",
   "execution_count": 17,
   "id": "debaf75e-3eb5-45b0-8399-e15e1ebf103e",
   "metadata": {},
   "outputs": [
    {
     "name": "stdout",
     "output_type": "stream",
     "text": [
      "{1, 2, 3, 4, 'a', 'b', 'c'}\n"
     ]
    }
   ],
   "source": [
    "set2 = {\"a\",\"b\",\"c\",3,4}\n",
    "print (set1|set2) #Or'ing the two sets to get unique values of the two sets"
   ]
  },
  {
   "cell_type": "code",
   "execution_count": 18,
   "id": "e9e62441-55ea-4284-b11d-63841e0e2d36",
   "metadata": {},
   "outputs": [
    {
     "name": "stdout",
     "output_type": "stream",
     "text": [
      "{3, 4}\n"
     ]
    }
   ],
   "source": [
    "print (set1&set2) #And'ing the two sets to get common values of the two sets"
   ]
  },
  {
   "cell_type": "code",
   "execution_count": 19,
   "id": "b883f659-71b7-4d58-8d8e-ec56256b92a7",
   "metadata": {},
   "outputs": [
    {
     "data": {
      "text/plain": [
       "{'a', 'b', 'c'}"
      ]
     },
     "execution_count": 19,
     "metadata": {},
     "output_type": "execute_result"
    }
   ],
   "source": [
    "set2-set1 #unique values in set2 and not present in set 1"
   ]
  },
  {
   "cell_type": "code",
   "execution_count": 20,
   "id": "a6060a14-77ba-46ec-a71f-ac9e6340c2d6",
   "metadata": {},
   "outputs": [
    {
     "data": {
      "text/plain": [
       "{1, 2}"
      ]
     },
     "execution_count": 20,
     "metadata": {},
     "output_type": "execute_result"
    }
   ],
   "source": [
    "set1-set2 #unique values in set1 and not present in set 2"
   ]
  },
  {
   "cell_type": "code",
   "execution_count": 22,
   "id": "e9dd9f3c-79d7-464b-bb89-cd1aefc4553f",
   "metadata": {},
   "outputs": [
    {
     "data": {
      "text/plain": [
       "range(0, 10)"
      ]
     },
     "execution_count": 22,
     "metadata": {},
     "output_type": "execute_result"
    }
   ],
   "source": [
    "#range datatype functioN?\n",
    "x=range(10)\n",
    "x"
   ]
  },
  {
   "cell_type": "code",
   "execution_count": 23,
   "id": "4609a94c-27c1-4cab-91e5-02295cd3d39e",
   "metadata": {},
   "outputs": [
    {
     "data": {
      "text/plain": [
       "range"
      ]
     },
     "execution_count": 23,
     "metadata": {},
     "output_type": "execute_result"
    }
   ],
   "source": [
    "type(x)"
   ]
  },
  {
   "cell_type": "code",
   "execution_count": 24,
   "id": "30cd2696-ccd3-456d-93fd-b473ae6c8229",
   "metadata": {},
   "outputs": [
    {
     "data": {
      "text/plain": [
       "b'hello word'"
      ]
     },
     "execution_count": 24,
     "metadata": {},
     "output_type": "execute_result"
    }
   ],
   "source": [
    "#Binary datatypes\n",
    "x=b\"hello word\"\n",
    "x"
   ]
  },
  {
   "cell_type": "code",
   "execution_count": 25,
   "id": "c156d7a5-3462-42c5-8340-d30d06122a6e",
   "metadata": {},
   "outputs": [
    {
     "data": {
      "text/plain": [
       "bytes"
      ]
     },
     "execution_count": 25,
     "metadata": {},
     "output_type": "execute_result"
    }
   ],
   "source": [
    "type(x)"
   ]
  },
  {
   "cell_type": "code",
   "execution_count": 30,
   "id": "17b1a640-ab02-4fa8-89c3-f0e44b430940",
   "metadata": {},
   "outputs": [
    {
     "data": {
      "text/plain": [
       "104"
      ]
     },
     "execution_count": 30,
     "metadata": {},
     "output_type": "execute_result"
    }
   ],
   "source": [
    "x[0]#returns ascii values of h"
   ]
  },
  {
   "cell_type": "code",
   "execution_count": 31,
   "id": "68e0f35a-6aed-44b8-95ed-35649a1d3e85",
   "metadata": {},
   "outputs": [
    {
     "data": {
      "text/plain": [
       "108"
      ]
     },
     "execution_count": 31,
     "metadata": {},
     "output_type": "execute_result"
    }
   ],
   "source": [
    "x[2]"
   ]
  },
  {
   "cell_type": "code",
   "execution_count": 32,
   "id": "242bf632-7097-439c-82bd-bbe295c3f4b0",
   "metadata": {},
   "outputs": [
    {
     "data": {
      "text/plain": [
       "108"
      ]
     },
     "execution_count": 32,
     "metadata": {},
     "output_type": "execute_result"
    }
   ],
   "source": [
    "x[3]"
   ]
  },
  {
   "cell_type": "code",
   "execution_count": 34,
   "id": "d0ca6f14-681d-4624-9282-ca085933cffe",
   "metadata": {},
   "outputs": [
    {
     "data": {
      "text/plain": [
       "str"
      ]
     },
     "execution_count": 34,
     "metadata": {},
     "output_type": "execute_result"
    }
   ],
   "source": [
    "s = \"Hello world\"\n",
    "type(s)"
   ]
  },
  {
   "cell_type": "code",
   "execution_count": 37,
   "id": "effc9f36-0198-47b5-a16c-e3f16b945263",
   "metadata": {},
   "outputs": [
    {
     "name": "stdout",
     "output_type": "stream",
     "text": [
      "['H', 'e', 'l', 'l', 'o', ' ', 'w', 'o', 'r', 'l', 'd']\n"
     ]
    }
   ],
   "source": [
    "sList = list(s)\n",
    "print(sList)"
   ]
  },
  {
   "cell_type": "code",
   "execution_count": 38,
   "id": "bdeafb58-0e15-4a09-b292-e8eeacaec08f",
   "metadata": {},
   "outputs": [
    {
     "data": {
      "text/plain": [
       "['H', 'e', 'l', 'l', 'o', ' ', 'w', 'o', 'r', 'l', 'd']"
      ]
     },
     "execution_count": 38,
     "metadata": {},
     "output_type": "execute_result"
    }
   ],
   "source": [
    "sList"
   ]
  },
  {
   "cell_type": "code",
   "execution_count": 39,
   "id": "89b33348-3b8b-4980-83e0-a1d375d72b84",
   "metadata": {},
   "outputs": [
    {
     "name": "stdout",
     "output_type": "stream",
     "text": [
      "[104, 101, 108, 108, 111, 32, 119, 111, 114, 100]\n"
     ]
    }
   ],
   "source": [
    "xList = list(x)\n",
    "print(xList)"
   ]
  },
  {
   "cell_type": "code",
   "execution_count": 40,
   "id": "a53c25c1-8a9c-4d8a-bb66-899eb5a37923",
   "metadata": {},
   "outputs": [
    {
     "data": {
      "text/plain": [
       "list"
      ]
     },
     "execution_count": 40,
     "metadata": {},
     "output_type": "execute_result"
    }
   ],
   "source": [
    "type(sList)"
   ]
  },
  {
   "cell_type": "code",
   "execution_count": 45,
   "id": "4a2cd61a-d36c-457c-bc10-1cf42734dae2",
   "metadata": {},
   "outputs": [
    {
     "data": {
      "text/plain": [
       "{' ', 'H', 'd', 'e', 'l', 'o', 'r', 'w'}"
      ]
     },
     "execution_count": 45,
     "metadata": {},
     "output_type": "execute_result"
    }
   ],
   "source": [
    "xset=set(sList) #converting list with duplicate elements to a set will eliminate duplicates\n",
    "xset"
   ]
  },
  {
   "cell_type": "code",
   "execution_count": null,
   "id": "618a4937-0b03-4791-8982-1c60a458a828",
   "metadata": {},
   "outputs": [],
   "source": []
  }
 ],
 "metadata": {
  "kernelspec": {
   "display_name": "Python 3 (ipykernel)",
   "language": "python",
   "name": "python3"
  },
  "language_info": {
   "codemirror_mode": {
    "name": "ipython",
    "version": 3
   },
   "file_extension": ".py",
   "mimetype": "text/x-python",
   "name": "python",
   "nbconvert_exporter": "python",
   "pygments_lexer": "ipython3",
   "version": "3.9.13"
  }
 },
 "nbformat": 4,
 "nbformat_minor": 5
}
