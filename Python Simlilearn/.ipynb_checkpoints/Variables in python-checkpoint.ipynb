{
 "cells": [
  {
   "cell_type": "code",
   "execution_count": 1,
   "id": "43290f6b",
   "metadata": {},
   "outputs": [
    {
     "name": "stdout",
     "output_type": "stream",
     "text": [
      "[[1 2 3]\n",
      " [4 5 6]\n",
      " [7 8 9]]\n"
     ]
    }
   ],
   "source": [
    "import numpy as np\n",
    "numpyCheck = np.array ([[1,2,3],[4,5,6],[7,8,9]])\n",
    "print(numpyCheck)"
   ]
  },
  {
   "cell_type": "code",
   "execution_count": 9,
   "id": "e57c22fe",
   "metadata": {},
   "outputs": [
    {
     "name": "stdout",
     "output_type": "stream",
     "text": [
      "variable a has value 50 , has type <class 'int'> , and has id 2844946886480 .\n"
     ]
    }
   ],
   "source": [
    "a=50\n",
    "print(\"variable a has value\",a,\", has type\",type(a),\", and has id\",id(a),\".\")"
   ]
  },
  {
   "cell_type": "code",
   "execution_count": 17,
   "id": "53d56f01",
   "metadata": {},
   "outputs": [
    {
     "name": "stdout",
     "output_type": "stream",
     "text": [
      " variable x has value 50 , has type <class 'int'> , and has id 2844946886480 .\n",
      " variable y has value 168.6 , has type <class 'float'> , and has id 2845029990128 .\n",
      " variable z has value hello , has type <class 'str'> , and has id 2845026468976 .\n"
     ]
    }
   ],
   "source": [
    "(x,y,z) = 50,168.6,\"hello\"\n",
    "print(\" variable x has value\",x,\", has type\",type(x),\", and has id\",id(x),\".\\n\",\n",
    "      \"variable y has value\",y,\", has type\",type(y),\", and has id\",id(y),\".\\n\",\n",
    "      \"variable z has value\",z,\", has type\",type(z),\", and has id\",id(z),\".\")"
   ]
  },
  {
   "cell_type": "code",
   "execution_count": 18,
   "id": "5d7d0feb",
   "metadata": {},
   "outputs": [
    {
     "name": "stdout",
     "output_type": "stream",
     "text": [
      " variable x has value 10 , has type <class 'int'> , and has id 2844946885200 .\n",
      " variable y has value 10 , has type <class 'int'> , and has id 2844946885200 .\n",
      " variable z has value 10 , has type <class 'int'> , and has id 2844946885200 .\n"
     ]
    }
   ],
   "source": [
    "x = y = z = 10\n",
    "print(\" variable x has value\",x,\", has type\",type(x),\", and has id\",id(x),\".\\n\",\n",
    "      \"variable y has value\",y,\", has type\",type(y),\", and has id\",id(y),\".\\n\",\n",
    "      \"variable z has value\",z,\", has type\",type(z),\", and has id\",id(z),\".\")"
   ]
  },
  {
   "cell_type": "code",
   "execution_count": 21,
   "id": "f7741d6f",
   "metadata": {},
   "outputs": [
    {
     "name": "stdout",
     "output_type": "stream",
     "text": [
      " variable x has value 10 , has type <class 'int'> , and has id 2844946885200 .\n",
      " variable y has value 10 , has type <class 'int'> , and has id 2844946885200 .\n",
      " variable z has value 10 , has type <class 'int'> , and has id 2844946885200 .\n"
     ]
    }
   ],
   "source": [
    "(x, y, z) = 10, 10, 10\n",
    "print(\" variable x has value\",x,\", has type\",type(x),\", and has id\",id(x),\".\\n\",\n",
    "      \"variable y has value\",y,\", has type\",type(y),\", and has id\",id(y),\".\\n\",\n",
    "      \"variable z has value\",z,\", has type\",type(z),\", and has id\",id(z),\".\")"
   ]
  },
  {
   "cell_type": "code",
   "execution_count": 25,
   "id": "98ad9ef9",
   "metadata": {},
   "outputs": [
    {
     "name": "stdout",
     "output_type": "stream",
     "text": [
      "variable abc has value 100 , has type <class 'int'> , and has id 2844947076560 .\n"
     ]
    }
   ],
   "source": [
    "# Rules for variable naming\n",
    "# to find and replace a section. first make a selection and do ctrl+shift+f, start typing find and replace to bring up cmd\n",
    "\n",
    "try:\n",
    "    abc = 100 # Valid\n",
    "    abc\n",
    "    print(\"variable abc has value\",abc,\", has type\",type(abc),\", and has id\",id(abc),\".\")\n",
    "except:\n",
    "    print(\"invalid variable name\")"
   ]
  },
  {
   "cell_type": "code",
   "execution_count": 26,
   "id": "86c983b7",
   "metadata": {},
   "outputs": [
    {
     "name": "stdout",
     "output_type": "stream",
     "text": [
      "variable abc102 has value 100 , has type <class 'int'> , and has id 2844947076560 .\n"
     ]
    }
   ],
   "source": [
    "try:\n",
    "    abc102 = 100 # Valid\n",
    "    abc102\n",
    "    print(\"variable abc102 has value\",abc102,\", has type\",type(abc102),\", and has id\",id(abc102),\".\")\n",
    "except:\n",
    "    print(\"invalid variable name\")\n"
   ]
  },
  {
   "cell_type": "code",
   "execution_count": 28,
   "id": "77c4cd4c",
   "metadata": {},
   "outputs": [
    {
     "name": "stdout",
     "output_type": "stream",
     "text": [
      "variable _a_bc has value 100 , has type <class 'int'> , and has id 2844947076560 .\n"
     ]
    }
   ],
   "source": [
    "try:\n",
    "    _a_bc = 100 # Valid\n",
    "    _a_bc\n",
    "    print(\"variable _a_bc has value\",_a_bc,\", has type\",type(_a_bc),\", and has id\",id(_a_bc),\".\")\n",
    "except:\n",
    "    print(\"invalid variable name\")\n"
   ]
  },
  {
   "cell_type": "code",
   "execution_count": 29,
   "id": "b64ac38c",
   "metadata": {},
   "outputs": [
    {
     "ename": "SyntaxError",
     "evalue": "invalid decimal literal (3832452249.py, line 2)",
     "output_type": "error",
     "traceback": [
      "\u001b[1;36m  File \u001b[1;32m\"C:\\Users\\alfaf\\AppData\\Local\\Temp\\ipykernel_17060\\3832452249.py\"\u001b[1;36m, line \u001b[1;32m2\u001b[0m\n\u001b[1;33m    1_a1_bc = 100 # Valid\u001b[0m\n\u001b[1;37m     ^\u001b[0m\n\u001b[1;31mSyntaxError\u001b[0m\u001b[1;31m:\u001b[0m invalid decimal literal\n"
     ]
    }
   ],
   "source": [
    "try:\n",
    "    1_a1_bc = 100 # Valid\n",
    "    1_a1_bc\n",
    "    print(\"variable 1_a1_bc has value\",1_a1_bc,\", has type\",type(1_a1_bc),\", and has id\",id(1_a1_bc),\".\")\n",
    "except:\n",
    "    print(\"invalid variable name\")"
   ]
  },
  {
   "cell_type": "code",
   "execution_count": 30,
   "id": "80029396",
   "metadata": {},
   "outputs": [
    {
     "ename": "SyntaxError",
     "evalue": "invalid syntax (1484151140.py, line 2)",
     "output_type": "error",
     "traceback": [
      "\u001b[1;36m  File \u001b[1;32m\"C:\\Users\\alfaf\\AppData\\Local\\Temp\\ipykernel_17060\\1484151140.py\"\u001b[1;36m, line \u001b[1;32m2\u001b[0m\n\u001b[1;33m    $_a$_bc = $00 # Valid\u001b[0m\n\u001b[1;37m    ^\u001b[0m\n\u001b[1;31mSyntaxError\u001b[0m\u001b[1;31m:\u001b[0m invalid syntax\n"
     ]
    }
   ],
   "source": [
    "try:\n",
    "    $_a$_bc = $00 # Valid\n",
    "    $_a$_bc\n",
    "    print(\"variable $_a$_bc has value\",$_a$_bc,\", has type\",type($_a$_bc),\", and has id\",id($_a$_bc),\".\")\n",
    "except:\n",
    "    print(\"invalid variable name\")"
   ]
  },
  {
   "cell_type": "code",
   "execution_count": 32,
   "id": "b3bf8205",
   "metadata": {
    "scrolled": true
   },
   "outputs": [
    {
     "data": {
      "text/plain": [
       "'GM'"
      ]
     },
     "execution_count": 32,
     "metadata": {},
     "output_type": "execute_result"
    }
   ],
   "source": [
    "car = \"GM\"\n",
    "car"
   ]
  },
  {
   "cell_type": "code",
   "execution_count": 31,
   "id": "36a9af7a",
   "metadata": {
    "scrolled": true
   },
   "outputs": [
    {
     "data": {
      "text/plain": [
       "'Hyundai'"
      ]
     },
     "execution_count": 31,
     "metadata": {},
     "output_type": "execute_result"
    }
   ],
   "source": [
    "Car = \"Hyundai\"\n",
    "Car"
   ]
  },
  {
   "cell_type": "code",
   "execution_count": 33,
   "id": "2010ab1f",
   "metadata": {},
   "outputs": [
    {
     "name": "stdout",
     "output_type": "stream",
     "text": [
      "\n",
      "Here is a list of the Python keywords.  Enter any keyword to get more help.\n",
      "\n",
      "False               break               for                 not\n",
      "None                class               from                or\n",
      "True                continue            global              pass\n",
      "__peg_parser__      def                 if                  raise\n",
      "and                 del                 import              return\n",
      "as                  elif                in                  try\n",
      "assert              else                is                  while\n",
      "async               except              lambda              with\n",
      "await               finally             nonlocal            yield\n",
      "\n"
     ]
    }
   ],
   "source": [
    "#Do not use these keywords as variable names\n",
    "help(\"keywords\")"
   ]
  },
  {
   "cell_type": "code",
   "execution_count": 38,
   "id": "30de95c1",
   "metadata": {},
   "outputs": [
    {
     "ename": "SyntaxError",
     "evalue": "invalid syntax (608448269.py, line 1)",
     "output_type": "error",
     "traceback": [
      "\u001b[1;36m  File \u001b[1;32m\"C:\\Users\\alfaf\\AppData\\Local\\Temp\\ipykernel_17060\\608448269.py\"\u001b[1;36m, line \u001b[1;32m1\u001b[0m\n\u001b[1;33m    try = \"This wont work because try is a reserved keyword\"\u001b[0m\n\u001b[1;37m        ^\u001b[0m\n\u001b[1;31mSyntaxError\u001b[0m\u001b[1;31m:\u001b[0m invalid syntax\n"
     ]
    }
   ],
   "source": [
    "try = \"This wont work because try is a reserved keyword\""
   ]
  },
  {
   "cell_type": "code",
   "execution_count": null,
   "id": "caa02e78",
   "metadata": {},
   "outputs": [],
   "source": []
  }
 ],
 "metadata": {
  "kernelspec": {
   "display_name": "Python 3 (ipykernel)",
   "language": "python",
   "name": "python3"
  },
  "language_info": {
   "codemirror_mode": {
    "name": "ipython",
    "version": 3
   },
   "file_extension": ".py",
   "mimetype": "text/x-python",
   "name": "python",
   "nbconvert_exporter": "python",
   "pygments_lexer": "ipython3",
   "version": "3.9.13"
  }
 },
 "nbformat": 4,
 "nbformat_minor": 5
}
