{
 "cells": [
  {
   "cell_type": "code",
   "execution_count": 3,
   "id": "120d48cf",
   "metadata": {},
   "outputs": [
    {
     "ename": "SyntaxError",
     "evalue": "EOL while scanning string literal (2346517299.py, line 29)",
     "output_type": "error",
     "traceback": [
      "\u001b[1;36m  File \u001b[1;32m\"C:\\Users\\alfaf\\AppData\\Local\\Temp\\ipykernel_4852\\2346517299.py\"\u001b[1;36m, line \u001b[1;32m29\u001b[0m\n\u001b[1;33m    \"\"\"\"\u001b[0m\n\u001b[1;37m        \n^\u001b[0m\n\u001b[1;31mSyntaxError\u001b[0m\u001b[1;31m:\u001b[0m EOL while scanning string literal\n"
     ]
    }
   ],
   "source": [
    "\"\"\"\n",
    "data types are:\n",
    "numeric are int, float, and complex\n",
    "int - Integer numeric type\n",
    "float - Floating-point numeric type\n",
    "complex - Complex numeric type\n",
    "\n",
    "boolean type is bool\n",
    "bool - Boolean type representing True or False\n",
    "\n",
    "text type is str\n",
    "str - String type representing a sequence of characters\n",
    "\n",
    "set type is set\n",
    "sequence types are list, tuple\n",
    "list - Mutable sequence of elements\n",
    "tuple - Immutable sequence of elements\n",
    "\n",
    "set - Mutable unordered collection of unique elements\n",
    "frozenset - Immutable unordered collection of unique elements\n",
    "\n",
    "mapping types is dict\n",
    "dict - Mutable mapping of key-value pairs\n",
    "\n",
    "binary types are bytes, bytearray, and memoryview\n",
    "bytes - Immutable sequence of bytes\n",
    "bytearray - Mutable sequence of bytes\n",
    "memoryview - Memory view of an object's internal data buffer\n",
    "\"\"\"\"\n",
    "\n",
    "#wtf is memoryview... chatgpt to the rescue\n",
    "# Create a byte array\n",
    "my_bytes = bytearray(b\"Hello, world!\")\n",
    "\n",
    "# Create a memoryview object of the byte array\n",
    "mv = memoryview(my_bytes)\n",
    "\n",
    "# Print the first byte of the byte array using the memoryview object\n",
    "print(mv[0])\n",
    "\n",
    "# Modify the second byte of the byte array using the memoryview object\n",
    "mv[1] = 101  # ASCII code for 'e'\n",
    "\n",
    "# Print the modified byte array\n",
    "print(my_bytes)"
   ]
  },
  {
   "cell_type": "code",
   "execution_count": 4,
   "id": "14990c8a",
   "metadata": {},
   "outputs": [
    {
     "name": "stdout",
     "output_type": "stream",
     "text": [
      " variable x has value 50.1 , has type <class 'float'> , and has id 1630462178928 .\n",
      " variable y has value 1686 , has type <class 'int'> , and has id 1630462181168 .\n",
      " variable z has value (1+2j) , has type <class 'complex'> , and has id 1630462180976 .\n",
      " variable z real component has value 1.0 , has type <class 'float'> , and has id 1630462178704 .\n",
      " variable z imaginary componenthas value 2.0 , has type <class 'float'> , and has id 1630462179440 .\n",
      "\n",
      "after some typecasts we now have...\n",
      " variable x has value 50 , has type <class 'int'> , and has id 1630379077456 .\n",
      " variable y has value 1686.0 , has type <class 'float'> , and has id 1630462181264 .\n",
      "\n"
     ]
    }
   ],
   "source": [
    "#numeric data type. USE 1j instead of j!\n",
    "(x,y,z) = 50.1,1686,1+2j\n",
    "print(\" variable x has value\",x,\", has type\",type(x),\", and has id\",id(x),\".\\n\",\n",
    "      \"variable y has value\",y,\", has type\",type(y),\", and has id\",id(y),\".\\n\",\n",
    "     \"variable z has value\",z,\", has type\",type(z),\", and has id\",id(z),\".\\n\",\n",
    "      \"variable z real component has value\",z.real,\", has type\",type(z.real),\", and has id\",id(z.real),\".\\n\",\n",
    "      \"variable z imaginary componenthas value\",z.imag,\", has type\",type(z.imag),\", and has id\",id(z.imag),\".\\n\")\n",
    "\n",
    "#lets try typecasting woohooo\n",
    "x = int(x)\n",
    "y = float(y)\n",
    "print(\"after some typecasts we now have...\")\n",
    "print(\" variable x has value\",x,\", has type\",type(x),\", and has id\",id(x),\".\\n\"\n",
    "     \" variable y has value\",y,\", has type\",type(y),\", and has id\",id(y),\".\\n\")"
   ]
  },
  {
   "cell_type": "code",
   "execution_count": 5,
   "id": "c32d10dd",
   "metadata": {},
   "outputs": [
    {
     "name": "stdout",
     "output_type": "stream",
     "text": [
      "False\n",
      "True\n",
      "<class 'bool'>\n"
     ]
    }
   ],
   "source": [
    "#booooleannn baby!\n",
    "testPassResult= True\n",
    "print(testPassResult < 1)\n",
    "print(testPassResult > 0)\n",
    "print(type(testPassResult))"
   ]
  },
  {
   "cell_type": "code",
   "execution_count": 6,
   "id": "542bc6dd",
   "metadata": {},
   "outputs": [
    {
     "name": "stdout",
     "output_type": "stream",
     "text": [
      " variable a has value Ford , has type <class 'str'> , and has id 1630462239920 .\n",
      " variable b has value Maverick , has type <class 'str'> , and has id 1630462290800 .\n",
      " variable c has value Fo rd M a v erick , has type <class 'str'> , and has id 1630462897808 .\n",
      "\n",
      "F\n",
      "o\n",
      "r\n",
      "d\n",
      "\n",
      "\n",
      "M\n",
      "a\n",
      "v\n",
      "e\n",
      "\n",
      "\n",
      "i\n",
      "c\n",
      "k\n",
      "\n",
      "\n",
      "Mav\n",
      "ver\n"
     ]
    }
   ],
   "source": [
    "#Strrriiiiiings and some review i guess\n",
    "#copied tutorial from last video because it is alot better lol\n",
    "a = \"Ford\"\n",
    "b = \"Maverick\"\n",
    "c = a[:2]+\" \"+a[2:]+\" \"+b[0]+\" \"+b[1]+\" \"+b[2]+\" \"+b[3:]\n",
    "print(\" variable a has value\",a,\", has type\",type(a),\", and has id\",id(a),\".\\n\",\n",
    "      \"variable b has value\",b,\", has type\",type(b),\", and has id\",id(b),\".\\n\",\n",
    "      \"variable c has value\",c,\", has type\",type(c),\", and has id\",id(c),\".\\n\")\n",
    "print(a[0])\n",
    "print(a[1])\n",
    "print(a[2])\n",
    "print(a[3])\n",
    "print(\"\\n\")\n",
    "print(b[0])\n",
    "print(b[1])\n",
    "print(b[2])\n",
    "print(b[3])\n",
    "#you can also reference from the end\n",
    "print(\"\\n\")\n",
    "print(b[-3])\n",
    "print(b[-2])\n",
    "print(b[-1])\n",
    "print(\"\\n\")\n",
    "\"\"\"\n",
    "how about some slicing \n",
    "take for example b[0:3]\n",
    "first digit is starting index which is base zero \n",
    "second digit after colon is end index (base zero +1 for some crazy reason)\n",
    "\"\"\"\n",
    "print(b[0:3])\n",
    "print(b[2:5])"
   ]
  },
  {
   "cell_type": "code",
   "execution_count": 7,
   "id": "98fe7820",
   "metadata": {},
   "outputs": [
    {
     "name": "stdout",
     "output_type": "stream",
     "text": [
      "0\n",
      "-1\n",
      "1\n",
      "2\n",
      "3\n"
     ]
    }
   ],
   "source": [
    "#how about some basic string functions\n",
    "print(a.find(\"F\"))\n",
    "#note lower case f doesnt exist in var a\n",
    "print(a.find(\"f\"))\n",
    "print(a.find(\"o\"))\n",
    "print(a.find(\"r\"))\n",
    "print(a.find(\"d\"))"
   ]
  },
  {
   "cell_type": "code",
   "execution_count": 8,
   "id": "dda0f6a5",
   "metadata": {},
   "outputs": [
    {
     "name": "stdout",
     "output_type": "stream",
     "text": [
      "I,am,a,human\n",
      "['I', 'am', 'a', 'human']\n"
     ]
    }
   ],
   "source": [
    "#List datatypes\n",
    "\n",
    "myFirstList = \"I,am,a,human\"\n",
    "\n",
    "#This is very useful for parsing csv files my dude\n",
    "elementOne = myFirstList.split(\",\")\n",
    "print(myFirstList)\n",
    "print(elementOne)"
   ]
  },
  {
   "cell_type": "code",
   "execution_count": 9,
   "id": "01bf43cb",
   "metadata": {},
   "outputs": [
    {
     "name": "stdout",
     "output_type": "stream",
     "text": [
      "['Is gravity measurable in m/s^2?', True, 9.80665]\n",
      "<class 'list'>\n"
     ]
    }
   ],
   "source": [
    "#just to show list can have multiple data types\n",
    "myFirstListVerTwo = [\"Is gravity measurable in m/s^2?\",True, 9.80665]\n",
    "print(myFirstListVerTwo)\n",
    "print(type(myFirstListVerTwo))"
   ]
  },
  {
   "cell_type": "code",
   "execution_count": 10,
   "id": "3e263698",
   "metadata": {},
   "outputs": [
    {
     "name": "stdout",
     "output_type": "stream",
     "text": [
      "['Is gravity measurable in m/s^2?', True, 9.80665, 'I', 'am', 'a', 'human']\n"
     ]
    }
   ],
   "source": [
    "#how to add to end of lists using \"+=\"\n",
    "myFirstListVerTwo += elementOne\n",
    "print(myFirstListVerTwo)\n"
   ]
  },
  {
   "cell_type": "code",
   "execution_count": 11,
   "id": "fe0e2ddd",
   "metadata": {},
   "outputs": [
    {
     "name": "stdout",
     "output_type": "stream",
     "text": [
      "('ford', 'hyundai', 'tesla')\n"
     ]
    },
    {
     "data": {
      "text/plain": [
       "tuple"
      ]
     },
     "execution_count": 11,
     "metadata": {},
     "output_type": "execute_result"
    }
   ],
   "source": [
    "#how about the hard to use tuple\n",
    "tup1 = (\"ford\",\"hyundai\",\"tesla\")\n",
    "print(tup1)\n",
    "type(tup1)\n"
   ]
  },
  {
   "cell_type": "code",
   "execution_count": 12,
   "id": "2db4c72a",
   "metadata": {},
   "outputs": [
    {
     "name": "stdout",
     "output_type": "stream",
     "text": [
      "('1', '2', '3')\n"
     ]
    },
    {
     "data": {
      "text/plain": [
       "tuple"
      ]
     },
     "execution_count": 12,
     "metadata": {},
     "output_type": "execute_result"
    }
   ],
   "source": [
    "tup2 = (\"1\",\"2\",\"3\")\n",
    "print(tup2)\n",
    "type(tup2)"
   ]
  },
  {
   "cell_type": "code",
   "execution_count": 13,
   "id": "e99ae3d9",
   "metadata": {},
   "outputs": [
    {
     "name": "stdout",
     "output_type": "stream",
     "text": [
      "('ford', 'hyundai', 'tesla', '1', '2', '3')\n"
     ]
    },
    {
     "data": {
      "text/plain": [
       "tuple"
      ]
     },
     "execution_count": 13,
     "metadata": {},
     "output_type": "execute_result"
    }
   ],
   "source": [
    "tup1+=tup2\n",
    "print(tup1)\n",
    "type(tup1)"
   ]
  },
  {
   "cell_type": "code",
   "execution_count": 14,
   "id": "c7de88a0",
   "metadata": {},
   "outputs": [
    {
     "data": {
      "text/plain": [
       "'1'"
      ]
     },
     "execution_count": 14,
     "metadata": {},
     "output_type": "execute_result"
    }
   ],
   "source": [
    "#Calling a tuple\n",
    "tup2[0]"
   ]
  },
  {
   "cell_type": "code",
   "execution_count": 15,
   "id": "910bb196",
   "metadata": {},
   "outputs": [
    {
     "data": {
      "text/plain": [
       "('1', '2', '3', '1', '2', '3')"
      ]
     },
     "execution_count": 15,
     "metadata": {},
     "output_type": "execute_result"
    }
   ],
   "source": [
    "#Not sure why this is useful\n",
    "tup2 * 2"
   ]
  },
  {
   "cell_type": "code",
   "execution_count": 16,
   "id": "1a3ec23f",
   "metadata": {},
   "outputs": [
    {
     "data": {
      "text/plain": [
       "'2'"
      ]
     },
     "execution_count": 16,
     "metadata": {},
     "output_type": "execute_result"
    }
   ],
   "source": [
    "tup2=tup2 * 2\n",
    "tup2[4]"
   ]
  },
  {
   "cell_type": "code",
   "execution_count": null,
   "id": "1b6cdb9c",
   "metadata": {},
   "outputs": [],
   "source": [
    "#Mapping \n",
    "myFirstDictionary"
   ]
  }
 ],
 "metadata": {
  "kernelspec": {
   "display_name": "Python 3 (ipykernel)",
   "language": "python",
   "name": "python3"
  },
  "language_info": {
   "codemirror_mode": {
    "name": "ipython",
    "version": 3
   },
   "file_extension": ".py",
   "mimetype": "text/x-python",
   "name": "python",
   "nbconvert_exporter": "python",
   "pygments_lexer": "ipython3",
   "version": "3.9.13"
  }
 },
 "nbformat": 4,
 "nbformat_minor": 5
}
